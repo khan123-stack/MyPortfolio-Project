{
  "nbformat": 4,
  "nbformat_minor": 0,
  "metadata": {
    "kernelspec": {
      "display_name": "Python 3",
      "language": "python",
      "name": "python3"
    },
    "language_info": {
      "codemirror_mode": {
        "name": "ipython",
        "version": 3
      },
      "file_extension": ".py",
      "mimetype": "text/x-python",
      "name": "python",
      "nbconvert_exporter": "python",
      "pygments_lexer": "ipython3",
      "version": "3.7.4"
    },
    "colab": {
      "provenance": [],
      "include_colab_link": true
    }
  },
  "cells": [
    {
      "cell_type": "markdown",
      "metadata": {
        "id": "view-in-github",
        "colab_type": "text"
      },
      "source": [
        "<a href=\"https://colab.research.google.com/github/khan123-stack/MyPortfolio-Project/blob/main/Assignment_Statements%2C_Indentation_and_Conditionals.ipynb\" target=\"_parent\"><img src=\"https://colab.research.google.com/assets/colab-badge.svg\" alt=\"Open In Colab\"/></a>"
      ]
    },
    {
      "cell_type": "markdown",
      "metadata": {
        "id": "8WbUJEVzs8Bx"
      },
      "source": [
        "## <u>While doing this assignment only use those concepts which have been taught till now</u>"
      ]
    },
    {
      "cell_type": "markdown",
      "metadata": {
        "id": "KjPWYK0Rs8By"
      },
      "source": [
        "## <u>Problem 1</u>\n",
        "\n",
        "### As an analyst, you had to present the quarterly performance results of your client. The data which you were provided was on daily basis. To complete this task, you needed to extract the quarter from a given date. For example:\n",
        "\n",
        "* if the date lies between 1st Jan, 2020 - 31st March, 2020, you need to extract the corresponding quarter as '2020-Q1'\n",
        "\n",
        "* if the date lies between 1st April, 2020 - 30th June, 2020, the extracted quarter will be '2020-Q2'\n",
        "\n",
        "* if the date lies between 1st July, 2020 - 30th September, 2020, the extracted quarter will be '2020-Q3' \n",
        "\n",
        "* if the date lies between 1st October, 2020 - 31st Decemeber, 2020 then the extracted quarter will be '2020-Q4'\n"
      ]
    },
    {
      "cell_type": "code",
      "metadata": {
        "id": "RxVZTrenzfHC",
        "colab": {
          "base_uri": "https://localhost:8080/"
        },
        "outputId": "49cf641d-bd14-41fa-bdea-6355e9ba088b"
      },
      "source": [
        "# Take a proper date input from the user in the format YYYY-MM-DD. Consider this date as a string\n",
        "user_date = input()\n"
      ],
      "execution_count": 40,
      "outputs": [
        {
          "name": "stdout",
          "output_type": "stream",
          "text": [
            "2020-03-01\n"
          ]
        }
      ]
    },
    {
      "cell_type": "code",
      "metadata": {
        "id": "N1Yhpkiws8B3"
      },
      "source": [
        "# Write your code using if else statements to extract the quarter\n",
        "date_year = int(user_date[:4])# 2020\n",
        "date_month = int(user_date[5:7])# 11\n",
        "\n",
        "# Store the quarter value in a string variable named quarter\n",
        "quarter=\" \"\n",
        "if date_month>=1 and date_month<=4:\n",
        "  quarter=str(date_year)+ ' Q1'\n",
        "elif date_month>=4 and date_month<=7:\n",
        "  quarter=str(date_year)+ ' Q2'\n",
        "elif date_month>=7 and date_month<=10:\n",
        "  quarter=str(date_year)+ ' Q3'\n",
        "else:\n",
        "  quarter=str(date_year)+ ' Q4'\n",
        "\n",
        "\n"
      ],
      "execution_count": 49,
      "outputs": []
    },
    {
      "cell_type": "code",
      "metadata": {
        "id": "KpMdlB5Fs8B8",
        "colab": {
          "base_uri": "https://localhost:8080/"
        },
        "outputId": "5ad3c1c4-aee6-421c-d1bc-3838769a520d"
      },
      "source": [
        "# Print the extracted quarter\n",
        "print(quarter)"
      ],
      "execution_count": 50,
      "outputs": [
        {
          "output_type": "stream",
          "name": "stdout",
          "text": [
            "2020 Q1\n"
          ]
        }
      ]
    },
    {
      "cell_type": "markdown",
      "metadata": {
        "id": "5qd8g8UUs8CM"
      },
      "source": [
        "## <u>Problem 2 </u>\n",
        "\n",
        "* You went out in your local neighbourhood to collect the data of people residing in the locale. You surveyed 5 people and collected some data and stored that in a dictionary. You recorded their names, their age, their sex, their heights(in cms) and their weights(in kgs)"
      ]
    },
    {
      "cell_type": "code",
      "metadata": {
        "id": "FBJy9Sq_s8CN"
      },
      "source": [
        "# Surveyed data \n",
        "\n",
        "locality_data = {'Name' : ['Abhinav','Sohail','Dheeraj','Rashmi','Vaishali'],\n",
        "                  'Age' : [42,29,35,28,32],\n",
        "                  'Sex' : ['Male', 'Male','Male','Female','Female'] , \n",
        "                  'Height' : [172,175,170,168,170],\n",
        "                  'Weight' : [70,82,60,55,64]\n",
        "                 }"
      ],
      "execution_count": 51,
      "outputs": []
    },
    {
      "cell_type": "markdown",
      "metadata": {
        "id": "2_rBSgqz5Ums"
      },
      "source": [
        "* Find the mean and median heights and weights of the people in your locality"
      ]
    },
    {
      "cell_type": "code",
      "metadata": {
        "id": "zywXa51d6Eev",
        "colab": {
          "base_uri": "https://localhost:8080/"
        },
        "outputId": "000d806a-3835-45af-c0d3-2efb13a0bbb7"
      },
      "source": [
        "# Calculate the mean height and print it\n",
        "mean_height=sum(locality_data['Height'])/len(locality_data['Height'])\n",
        "print(mean_height)\n",
        "\n",
        "\n",
        "# Calculate the median height and print it\n",
        "#len(locality_data['Height'])%2==0\n",
        "import statistics \n",
        "print(statistics.median([172,175,170,168,170]))\n",
        "\n",
        "\n",
        "\n",
        "# Calculate the mean weight and print it\n",
        "mean_weight=sum(locality_data['Weight'])/len(locality_data['Weight'])\n",
        "print(mean_weight)\n",
        "\n",
        "\n",
        "# Calculate the median weight and print it\n",
        "import statistics\n",
        "print(statistics.median([70,82,60,55,64]))\n",
        "\n",
        "\n"
      ],
      "execution_count": 76,
      "outputs": [
        {
          "output_type": "stream",
          "name": "stdout",
          "text": [
            "171.0\n",
            "170\n",
            "66.2\n",
            "64\n"
          ]
        }
      ]
    },
    {
      "cell_type": "markdown",
      "metadata": {
        "id": "yLb5awgPQeYA"
      },
      "source": [
        "* Write a Python code to print the first three elements from the list of age values corresponding to the key 'Age'"
      ]
    },
    {
      "cell_type": "code",
      "metadata": {
        "id": "wef2fVgx6Gji",
        "colab": {
          "base_uri": "https://localhost:8080/"
        },
        "outputId": "9a761bcc-d622-4722-bace-a1796d4a7d9f"
      },
      "source": [
        "# Python code to print the first three elements for the key 'Age'\n",
        "\n",
        "ages = locality_data['Age'][:3]\n",
        "print(ages)"
      ],
      "execution_count": 80,
      "outputs": [
        {
          "output_type": "stream",
          "name": "stdout",
          "text": [
            "[42, 29, 35]\n"
          ]
        }
      ]
    },
    {
      "cell_type": "markdown",
      "metadata": {
        "id": "NGrZaqulRIM1"
      },
      "source": [
        "* Write a Python code to print the last two elements of the name list if the list of values corresponding to the key 'Name' contains the element 'Rashmi' else print 'Name not found'"
      ]
    },
    {
      "cell_type": "code",
      "metadata": {
        "id": "TBRZzwAcRTNL",
        "colab": {
          "base_uri": "https://localhost:8080/"
        },
        "outputId": "7605b91e-1228-421e-80ae-4a13d5e1899a"
      },
      "source": [
        "# Your code below\n",
        "last_name= locality_data['Name'][-2:]\n",
        "print(last_name)\n",
        "if 'Rashmi' in locality_data['Name']:\n",
        "  print(last_name)\n",
        "else:\n",
        "  print('Name not found')\n",
        "\n",
        "\n",
        "\n"
      ],
      "execution_count": 91,
      "outputs": [
        {
          "output_type": "stream",
          "name": "stdout",
          "text": [
            "['Rashmi', 'Vaishali']\n",
            "['Rashmi', 'Vaishali']\n"
          ]
        }
      ]
    },
    {
      "cell_type": "markdown",
      "metadata": {
        "id": "ejRCi-vTs8CU"
      },
      "source": [
        "## <u> Problem 3 </u>\n",
        "\n",
        "A student will not be allowed to sit in exam if his/her attendence is less than 75%.\n",
        "\n",
        "Take following input from user\n",
        "* Number of classes held\n",
        "* Number of classes attended."
      ]
    },
    {
      "cell_type": "code",
      "metadata": {
        "id": "C5olNuDGs8CU",
        "colab": {
          "base_uri": "https://localhost:8080/"
        },
        "outputId": "8de2804d-e1a1-4ec7-ac74-e698a9a16c06"
      },
      "source": [
        "# Enter your input\n",
        "\n",
        "print(\"Number of classes held\")\n",
        "classes_held = int(input())\n",
        "\n",
        "print(\"Number of classes attended\")\n",
        "classes_attended = int(input())"
      ],
      "execution_count": 97,
      "outputs": [
        {
          "name": "stdout",
          "output_type": "stream",
          "text": [
            "Number of classes held\n",
            "100\n",
            "Number of classes attended\n",
            "90\n"
          ]
        }
      ]
    },
    {
      "cell_type": "code",
      "metadata": {
        "id": "i553Hqamm2jR",
        "colab": {
          "base_uri": "https://localhost:8080/"
        },
        "outputId": "ebfa80f9-1498-43f4-acee-d2c20d2dea65"
      },
      "source": [
        "# Calculate the attendance percentage\n",
        "attendance = classes_attended*100/classes_held\n",
        "\n",
        "print(f'The attendance is {attendance}')"
      ],
      "execution_count": 104,
      "outputs": [
        {
          "output_type": "stream",
          "name": "stdout",
          "text": [
            "The attendance is 90.0\n"
          ]
        }
      ]
    },
    {
      "cell_type": "markdown",
      "metadata": {
        "id": "QYDpXSANnKxV"
      },
      "source": [
        "And print the following statements based on the condition above\n",
        "\n",
        "* percentage of class attended\n",
        "* Is student is allowed to sit in exam or not."
      ]
    },
    {
      "cell_type": "code",
      "metadata": {
        "id": "SoQ3P0yym2ts",
        "colab": {
          "base_uri": "https://localhost:8080/"
        },
        "outputId": "7091a8a4-07ae-4f9d-cc43-9d42e66cb8e8"
      },
      "source": [
        "# Your code here \n",
        "if attendance<75:\n",
        "  print(\"Student is not allowed to sit in the exam\")\n",
        "else:\n",
        "  print(f'percentage of class attended {attendance}')\n",
        "\n"
      ],
      "execution_count": 105,
      "outputs": [
        {
          "output_type": "stream",
          "name": "stdout",
          "text": [
            "percentage of class attended 90.0\n"
          ]
        }
      ]
    },
    {
      "cell_type": "markdown",
      "metadata": {
        "id": "P1rOYC8Is8Cf"
      },
      "source": [
        "## <u>Problem 4</u>\n",
        "\n",
        "### A school has following rules for grading system:\n",
        "* Below 25 - F\n",
        "* 25 to 45 - E\n",
        "* 45 to 50 - D\n",
        "* 50 to 60 - C\n",
        "* 60 to 80 - B\n",
        "* Above 80 - A\n",
        "\n",
        "Keep the left number inclusive and the right number exclusive, something like [25,45) for grade E where the set is closed at 25 and open at 45.\n",
        "\n",
        "Write a Python code which takes marks as inputs from the user and print the corresponding grade."
      ]
    },
    {
      "cell_type": "code",
      "metadata": {
        "id": "ySeGyCtCs8Cg",
        "colab": {
          "base_uri": "https://localhost:8080/"
        },
        "outputId": "a8ff561d-e7b2-458d-af13-51beb1661a73"
      },
      "source": [
        "# Your input here \n",
        "print(\"Enter your marks\")\n",
        "marks = int(input())"
      ],
      "execution_count": 119,
      "outputs": [
        {
          "name": "stdout",
          "output_type": "stream",
          "text": [
            "Enter your marks\n",
            "80\n"
          ]
        }
      ]
    },
    {
      "cell_type": "code",
      "metadata": {
        "id": "MI7mOHaqs8Cj",
        "colab": {
          "base_uri": "https://localhost:8080/"
        },
        "outputId": "fc3cf6f9-11c8-44f4-a7f7-3879c9ced124"
      },
      "source": [
        "# Your code here to print the corresponding grade\n",
        "if marks<25:\n",
        "  print(\"you are Failed\")\n",
        "elif marks>25 and marks<=45:\n",
        "  print(\"your grade is E\")\n",
        "elif marks>45 and marks<=50:\n",
        "  print(\"your grade is D\")\n",
        "elif marks>50 and marks<=60:\n",
        "  print(\"your grade is C\")\n",
        "elif marks>60 and marks<=80:\n",
        "  print(\"your grade is B\")\n",
        "else:\n",
        "  print(\"your grade is A\")\n",
        "\n",
        "\n",
        "\n",
        "\n",
        "\n",
        "\n",
        "\n",
        "\n",
        "\n",
        "\n",
        "\n"
      ],
      "execution_count": 120,
      "outputs": [
        {
          "output_type": "stream",
          "name": "stdout",
          "text": [
            "your grade is B\n"
          ]
        }
      ]
    }
  ]
}